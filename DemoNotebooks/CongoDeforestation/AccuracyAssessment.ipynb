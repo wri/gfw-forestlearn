{
 "cells": [
  {
   "cell_type": "code",
   "execution_count": 13,
   "id": "6b906370",
   "metadata": {},
   "outputs": [],
   "source": [
    "#Load necessary libraries\n",
    "import sys\n",
    "import os\n",
    "import ee\n",
    "import geemap\n",
    "import numpy as np\n",
    "import pandas as pd\n",
    "from IPython.display import HTML, display\n",
    "from ipyleaflet import Map, basemaps\n",
    "import random\n",
    "import time\n",
    "modulePath = '/Users/kristine/WRI/MachineLearning/gfw-forestlearn'\n",
    "if modulePath not in sys.path:\n",
    "    sys.path.append(modulePath)\n",
    "from gfw_forestlearn import ee_functions as eef\n",
    "\n",
    "#continuous historical prediction\n",
    "#projects/wri-datalab/gfw-ai4earth/PredictingDeforestation/DRC/Results/DRC_Deforestation_Historical_Risk_Continuous"
   ]
  },
  {
   "cell_type": "code",
   "execution_count": 14,
   "id": "798134ea",
   "metadata": {},
   "outputs": [],
   "source": [
    "\n",
    "#Initialize earth engine\n",
    "try:\n",
    "    ee.Initialize()\n",
    "except Exception as e:\n",
    "    ee.Authenticate()\n",
    "    ee.Initialize()"
   ]
  },
  {
   "cell_type": "code",
   "execution_count": 15,
   "id": "00649b14",
   "metadata": {},
   "outputs": [
    {
     "name": "stdout",
     "output_type": "stream",
     "text": [
      "CRS and Transform:  EPSG:4326 [0.00025, 0, -180, 0, -0.00025, 80]\n"
     ]
    }
   ],
   "source": [
    "#prediction = ee.Image('projects/wri-datalab/gfw-ai4earth/PredictingDeforestation/DRC/Results/DRC_Deforestation_Historical_Risk_Continuous')\n",
    "#prediction = ee.Image('projects/wri-datalab/gfw-ai4earth/PredictingDeforestation/DRC/Results/Historical_Risk_Categorical')\n",
    "\n",
    "prediction = ee.Image('projects/wri-datalab/gfw-ai4earth/PredictingDeforestation/DRC/TestingModels/Tshuapa_HistoricalRisk_20211022')\n",
    "targetLoss = eef.getTargetLoss(startYear=2012,endYear=2017)\n",
    "prediction = prediction.mask(targetLoss)\n",
    "# load Hansen forest change data\n",
    "forestChange = ee.Image(\"UMD/hansen/global_forest_change_2019_v1_7\")\n",
    "\n",
    "# save projection information\n",
    "projection_ee = forestChange.projection()\n",
    "projection = projection_ee.getInfo()\n",
    "crs = projection.get('crs')\n",
    "crsTransform = projection.get('transform')\n",
    "scale = projection_ee.nominalScale().getInfo()\n",
    "print('CRS and Transform: ',crs, crsTransform)\n",
    "\n",
    "# Load DRC feature\n",
    "countryBoundaries = ee.FeatureCollection('projects/resource-watch-gee/gadm36_0')\n",
    "boundary = ee.FeatureCollection('projects/wri-datalab/gfw-ai4earth/PredictingDeforestation/DRC/Boundaries/adm1_tshuapa')#countryBoundaries.filterMetadata('GID_0','equals','COD').first().geometry()\n",
    "\n",
    "\n",
    "seed=42\n",
    "\n",
    "\n",
    "\n"
   ]
  },
  {
   "cell_type": "code",
   "execution_count": 16,
   "id": "1ddf76a5",
   "metadata": {},
   "outputs": [
    {
     "name": "stdout",
     "output_type": "stream",
     "text": [
      "Polling for task (id: 6OZ6ZTOPLMS7MALUBMO6EPKZ).\n",
      "Polling for task (id: 6OZ6ZTOPLMS7MALUBMO6EPKZ).\n",
      "Polling for task (id: 6OZ6ZTOPLMS7MALUBMO6EPKZ).\n",
      "Polling for task (id: 6OZ6ZTOPLMS7MALUBMO6EPKZ).\n",
      "Polling for task (id: 6OZ6ZTOPLMS7MALUBMO6EPKZ).\n",
      "Polling for task (id: 6OZ6ZTOPLMS7MALUBMO6EPKZ).\n",
      "Polling for task (id: 6OZ6ZTOPLMS7MALUBMO6EPKZ).\n",
      "Polling for task (id: 6OZ6ZTOPLMS7MALUBMO6EPKZ).\n",
      "Polling for task (id: 6OZ6ZTOPLMS7MALUBMO6EPKZ).\n",
      "Polling for task (id: 6OZ6ZTOPLMS7MALUBMO6EPKZ).\n",
      "Polling for task (id: 6OZ6ZTOPLMS7MALUBMO6EPKZ).\n",
      "Polling for task (id: 6OZ6ZTOPLMS7MALUBMO6EPKZ).\n",
      "Polling for task (id: 6OZ6ZTOPLMS7MALUBMO6EPKZ).\n",
      "Polling for task (id: 6OZ6ZTOPLMS7MALUBMO6EPKZ).\n",
      "Polling for task (id: 6OZ6ZTOPLMS7MALUBMO6EPKZ).\n",
      "Polling for task (id: 6OZ6ZTOPLMS7MALUBMO6EPKZ).\n",
      "Polling for task (id: 6OZ6ZTOPLMS7MALUBMO6EPKZ).\n",
      "Polling for task (id: 6OZ6ZTOPLMS7MALUBMO6EPKZ).\n",
      "Polling for task (id: 6OZ6ZTOPLMS7MALUBMO6EPKZ).\n",
      "Polling for task (id: 6OZ6ZTOPLMS7MALUBMO6EPKZ).\n",
      "Polling for task (id: 6OZ6ZTOPLMS7MALUBMO6EPKZ).\n",
      "Polling for task (id: 6OZ6ZTOPLMS7MALUBMO6EPKZ).\n",
      "Polling for task (id: 6OZ6ZTOPLMS7MALUBMO6EPKZ).\n",
      "Polling for task (id: 6OZ6ZTOPLMS7MALUBMO6EPKZ).\n",
      "Polling for task (id: 6OZ6ZTOPLMS7MALUBMO6EPKZ).\n",
      "Polling for task (id: 6OZ6ZTOPLMS7MALUBMO6EPKZ).\n",
      "Polling for task (id: 6OZ6ZTOPLMS7MALUBMO6EPKZ).\n",
      "Polling for task (id: 6OZ6ZTOPLMS7MALUBMO6EPKZ).\n",
      "Polling for task (id: 6OZ6ZTOPLMS7MALUBMO6EPKZ).\n",
      "Polling for task (id: 6OZ6ZTOPLMS7MALUBMO6EPKZ).\n",
      "Polling for task (id: 6OZ6ZTOPLMS7MALUBMO6EPKZ).\n",
      "Polling for task (id: 6OZ6ZTOPLMS7MALUBMO6EPKZ).\n",
      "Polling for task (id: 6OZ6ZTOPLMS7MALUBMO6EPKZ).\n",
      "Polling for task (id: 6OZ6ZTOPLMS7MALUBMO6EPKZ).\n",
      "Polling for task (id: 6OZ6ZTOPLMS7MALUBMO6EPKZ).\n",
      "Polling for task (id: 6OZ6ZTOPLMS7MALUBMO6EPKZ).\n",
      "Polling for task (id: 6OZ6ZTOPLMS7MALUBMO6EPKZ).\n",
      "Polling for task (id: 6OZ6ZTOPLMS7MALUBMO6EPKZ).\n",
      "Polling for task (id: 6OZ6ZTOPLMS7MALUBMO6EPKZ).\n",
      "Polling for task (id: 6OZ6ZTOPLMS7MALUBMO6EPKZ).\n",
      "Polling for task (id: 6OZ6ZTOPLMS7MALUBMO6EPKZ).\n",
      "Polling for task (id: 6OZ6ZTOPLMS7MALUBMO6EPKZ).\n",
      "Polling for task (id: 6OZ6ZTOPLMS7MALUBMO6EPKZ).\n",
      "Polling for task (id: 6OZ6ZTOPLMS7MALUBMO6EPKZ).\n",
      "Polling for task (id: 6OZ6ZTOPLMS7MALUBMO6EPKZ).\n",
      "Polling for task (id: 6OZ6ZTOPLMS7MALUBMO6EPKZ).\n",
      "Polling for task (id: 6OZ6ZTOPLMS7MALUBMO6EPKZ).\n",
      "Polling for task (id: 6OZ6ZTOPLMS7MALUBMO6EPKZ).\n",
      "Polling for task (id: 6OZ6ZTOPLMS7MALUBMO6EPKZ).\n",
      "Polling for task (id: 6OZ6ZTOPLMS7MALUBMO6EPKZ).\n",
      "Polling for task (id: 6OZ6ZTOPLMS7MALUBMO6EPKZ).\n",
      "Polling for task (id: 6OZ6ZTOPLMS7MALUBMO6EPKZ).\n",
      "Done with export.\n"
     ]
    }
   ],
   "source": [
    "\n",
    "scales = [30,100,1000]\n",
    "\n",
    "rateFC = ee.FeatureCollection([eef.compareRates(targetLoss, prediction, boundary.geometry(), x) for x in scales])\n",
    "\n",
    "export_results_task = ee.batch.Export.table.toDrive(\n",
    "    collection=rateFC, \n",
    "    folder='CongoDeforestation',\n",
    "    description = 'EEModelAccuracy',\n",
    "    fileNamePrefix = 'EEModelAccuracy',\n",
    "    fileFormat='CSV')\n",
    "export_results_task.start()\n",
    "\n",
    "#Wait for last export to finish\n",
    "while export_results_task.active():\n",
    "    print('Polling for task (id: {}).'.format(export_results_task.id))\n",
    "    time.sleep(30)\n",
    "print('Done with export.')\n"
   ]
  },
  {
   "cell_type": "code",
   "execution_count": null,
   "id": "bffa4bb1",
   "metadata": {},
   "outputs": [],
   "source": []
  },
  {
   "cell_type": "code",
   "execution_count": null,
   "id": "6844b338",
   "metadata": {},
   "outputs": [],
   "source": []
  },
  {
   "cell_type": "code",
   "execution_count": null,
   "id": "139eec88",
   "metadata": {},
   "outputs": [],
   "source": []
  },
  {
   "cell_type": "code",
   "execution_count": null,
   "id": "b3fcbd62",
   "metadata": {},
   "outputs": [],
   "source": []
  },
  {
   "cell_type": "code",
   "execution_count": null,
   "id": "f8e2b1c4",
   "metadata": {},
   "outputs": [],
   "source": []
  },
  {
   "cell_type": "code",
   "execution_count": null,
   "id": "3bcc0d40",
   "metadata": {},
   "outputs": [],
   "source": []
  },
  {
   "cell_type": "code",
   "execution_count": null,
   "id": "a81d9c32",
   "metadata": {},
   "outputs": [],
   "source": []
  }
 ],
 "metadata": {
  "kernelspec": {
   "display_name": "Python 3",
   "language": "python",
   "name": "python3"
  },
  "language_info": {
   "codemirror_mode": {
    "name": "ipython",
    "version": 3
   },
   "file_extension": ".py",
   "mimetype": "text/x-python",
   "name": "python",
   "nbconvert_exporter": "python",
   "pygments_lexer": "ipython3",
   "version": "3.9.9"
  }
 },
 "nbformat": 4,
 "nbformat_minor": 5
}
