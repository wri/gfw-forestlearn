{
 "cells": [
  {
   "cell_type": "markdown",
   "metadata": {},
   "source": [
    "https://cloud.google.com/ai-platform/training/docs/getting-started-scikit-xgboost\n",
    "\n",
    "https://cloud.google.com/ai-platform/prediction/docs/using-pipelines-for-preprocessing#gcloud_2"
   ]
  },
  {
   "cell_type": "code",
   "execution_count": 1,
   "metadata": {},
   "outputs": [],
   "source": [
    "import sys\n",
    "sys.path.append('/usr/local/lib/python3.8/site-packages')\n",
    "sys.path.append('/Users/kristine/Library/Python/3.8/lib/python/site-packages')\n",
    "from gfw_forestlearn import fl_binary_classification\n",
    "#from gfw_forestlearn import fl_regression\n",
    "#import pandas as pd\n",
    "import numpy as np\n",
    "from datetime import datetime\n"
   ]
  },
  {
   "cell_type": "code",
   "execution_count": 72,
   "metadata": {},
   "outputs": [
    {
     "name": "stdout",
     "output_type": "stream",
     "text": [
      "Updated property [core/project].\n",
      "env: GOOGLE_APPLICATION_CREDENTIALS='wri-congo-deforestation-92666c07ca00.json'\n",
      "env: REGION=us-east4\n"
     ]
    }
   ],
   "source": [
    "PROJECT_ID = \"wri-congo-deforestation\" #@param {type:\"string\"}\n",
    "! gcloud config set project $PROJECT_ID\n",
    "%env GOOGLE_APPLICATION_CREDENTIALS 'wri-congo-deforestation-92666c07ca00.json'\n",
    "BUCKET_NAME = \"wri-congo-deforestation\" #@param {type:\"string\"}\n",
    "REGION = \"us-east4\" #@param {type:\"string\"}\n",
    "%env REGION = us-east4"
   ]
  },
  {
   "cell_type": "code",
   "execution_count": 3,
   "metadata": {},
   "outputs": [
    {
     "name": "stdout",
     "output_type": "stream",
     "text": [
      "Copying gs://wri-congo-deforestation/testing_points.csv...\n",
      "/ [1 files][  8.3 KiB/  8.3 KiB]                                                \n",
      "Operation completed over 1 objects/8.3 KiB.                                      \n"
     ]
    }
   ],
   "source": [
    "!gsutil cp gs://wri-congo-deforestation/testing_points.csv ."
   ]
  },
  {
   "cell_type": "code",
   "execution_count": 4,
   "metadata": {},
   "outputs": [
    {
     "name": "stdout",
     "output_type": "stream",
     "text": [
      "Overwriting ai_platform_model.py\n"
     ]
    }
   ],
   "source": [
    "%%writefile ai_platform_model.py\n",
    "from gfw_forestlearn import fl_binary_classification\n",
    "import pandas as pd\n",
    "import subprocess\n",
    "\n",
    "training_csv = 'testing_points.csv'\n",
    "training_set = pd.read_csv(training_csv)\n",
    "mask_column = ['TrainingSplit','ValidationSplit','system:index','.geo']\n",
    "y_column = 'loss'\n",
    "\n",
    "\n",
    "params = {\n",
    "    'learn__n_estimators': [100],\n",
    "    'learn__max_features': ['auto'],\n",
    "    'learn__min_samples_leaf': [0.1],\n",
    "    'learn__max_depth': [6]\n",
    "}\n",
    "predictors = ['earlyLossDistance','elevation','huntingAreasDistance','protectedAreasDistance',\n",
    "              'roadsDistance','ruralComplexDistance','slope']\n",
    "learning = fl_binary_classification.ForestLearn(predictors=predictors, y_column=y_column)\n",
    "modelfilename= 'randfor.pkl'\n",
    "out_modelfilename= 'randfor2.pkl'\n",
    "cv_results_filename = 'cv_results.csv'\n",
    "feature_importance_filename = 'feature_importance.csv'\n",
    "out_train_file = 'out_train.csv'\n",
    "scores_out_file = 'scores_out_file.csv'\n",
    "\n",
    "learning.setup_rf_model_classify_scale()\n",
    "learning.tune_param_set(training_set, params, modelfilename, cv_results_filename,k=3,\n",
    "                        scoring='roc_auc', n_jobs=1,verbose=0)\n",
    "learning.save_feature_importances(feature_importance_filename)\n",
    "learning.fit_model_with_params(training_set, out_modelfilename,in_modelfilename=modelfilename)\n",
    "learning.load_model_from_file(modelfilename)\n",
    "learning.predict_supervised_data(training_csv, out_train_file, name='Train')\n",
    "learning.save_scores(scores_out_file)\n",
    "\n"
   ]
  },
  {
   "cell_type": "code",
   "execution_count": 63,
   "metadata": {},
   "outputs": [
    {
     "name": "stdout",
     "output_type": "stream",
     "text": [
      "Overwriting iris_sklearn_trainer/training.py\n"
     ]
    }
   ],
   "source": [
    "%%writefile iris_sklearn_trainer/training.py\n",
    "# This file is for training on AI Platform with scikit-learn.\n",
    "\n",
    "\n",
    "# [START setup]\n",
    "import datetime\n",
    "import os\n",
    "import subprocess\n",
    "import sys\n",
    "import pandas as pd\n",
    "from sklearn import svm\n",
    "import glob\n",
    "import pandas as pd\n",
    "\n",
    "\n",
    "training_csv = 'training_points.csv'\n",
    "data_dir = 'gs://wri-congo-deforestation'\n",
    "fl_module = 'gfw_forestlearn'\n",
    "\n",
    "# gsutil outputs everything to stderr so we need to divert it to stdout.\n",
    "subprocess.check_call(['gsutil', 'cp', os.path.join(data_dir, training_csv),'.'], stderr=sys.stdout)\n",
    "subprocess.check_call(['gsutil', 'cp','-r', os.path.join(data_dir, fl_module),'.'], stderr=sys.stdout)\n",
    "\n",
    "\n",
    "from gfw_forestlearn import fl_binary_classification\n",
    "\n",
    "BUCKET_NAME = 'wri-congo-deforestation'\n",
    "training_csv = 'training_points.csv'\n",
    "training_set = pd.read_csv(training_csv)\n",
    "mask_column = ['TrainingSplit','ValidationSplit','system:index','.geo']\n",
    "y_column = 'loss'\n",
    "\n",
    "\n",
    "params = {\n",
    "    'learn__n_estimators': [100],\n",
    "    'learn__max_features': ['auto'],\n",
    "    'learn__min_samples_leaf': [0.1],\n",
    "    'learn__max_depth': [6]\n",
    "}\n",
    "predictors = ['earlyLossDistance','elevation','huntingAreasDistance','protectedAreasDistance',\n",
    "              'roadsDistance','ruralComplexDistance','slope']\n",
    "learning = fl_binary_classification.ForestLearn(predictors=predictors, y_column=y_column)\n",
    "modelfilename= 'randfor.pkl'\n",
    "cv_results_filename = 'cv_results.csv'\n",
    "scores_out_file = 'scores_out_file.csv'\n",
    "\n",
    "learning.setup_rf_model_classify_scale()\n",
    "trained_model = learning.tune_param_set(training_set, params, modelfilename, cv_results_filename,k=3,\n",
    "                        scoring='roc_auc', n_jobs=1,verbose=0)\n",
    "\n",
    "\n",
    "\n",
    "# [START upload-model]\n",
    "# Upload the saved model file to Cloud Storage\n",
    "gcs_model_path = os.path.join('gs://', BUCKET_NAME, modelfilename)\n",
    "subprocess.check_call(['gsutil', 'cp', modelfilename, gcs_model_path],\n",
    "    stderr=sys.stdout)\n",
    "# [END upload-model]"
   ]
  },
  {
   "cell_type": "code",
   "execution_count": 64,
   "metadata": {},
   "outputs": [],
   "source": [
    "TRAINING_PACKAGE_PATH=\"./iris_sklearn_trainer/\"\n",
    "MAIN_TRAINER_MODULE=\"iris_sklearn_trainer.training\""
   ]
  },
  {
   "cell_type": "code",
   "execution_count": 65,
   "metadata": {},
   "outputs": [
    {
     "name": "stdout",
     "output_type": "stream",
     "text": [
      "Copying gs://wri-congo-deforestation/training_points.csv...\n",
      "- [1 files][756.5 KiB/756.5 KiB]                                                \n",
      "Operation completed over 1 objects/756.5 KiB.                                    \n",
      "Copying gs://wri-congo-deforestation/gfw_forestlearn/__init__.py...\n",
      "Copying gs://wri-congo-deforestation/gfw_forestlearn/__pycache__/__init__.cpython-38.pyc...\n",
      "Copying gs://wri-congo-deforestation/gfw_forestlearn/__pycache__/fl_binary_classification.cpython-38.pyc...\n",
      "Copying gs://wri-congo-deforestation/gfw_forestlearn/__pycache__/fl_regression.cpython-38.pyc...\n",
      "/ [4 files][ 18.9 KiB/ 18.9 KiB]                                                \n",
      "==> NOTE: You are performing a sequence of gsutil operations that may\n",
      "run significantly faster if you instead use gsutil -m cp ... Please\n",
      "see the -m section under \"gsutil help options\" for further information\n",
      "about when gsutil -m can be advantageous.\n",
      "\n",
      "Copying gs://wri-congo-deforestation/gfw_forestlearn/fl_binary_classification.py...\n",
      "Copying gs://wri-congo-deforestation/gfw_forestlearn/fl_regression.py...        \n",
      "Copying gs://wri-congo-deforestation/gfw_forestlearn/geo_processing.py...       \n",
      "- [7 files][ 66.4 KiB/ 66.4 KiB]                                                \n",
      "Operation completed over 7 objects/66.4 KiB.                                     \n",
      "Best parameters: {'learn__max_depth': 6, 'learn__max_features': 'auto', 'learn__min_samples_leaf': 0.1, 'learn__n_estimators': 100}\n",
      "Best score: 0.8958229626316333\n",
      "['earlyLossDistance', 'elevation', 'huntingAreasDistance', 'protectedAreasDistance', 'roadsDistance', 'ruralComplexDistance', 'slope']\n",
      "Copying file://randfor.pkl [Content-Type=application/octet-stream]...\n",
      "/ [1 files][149.1 KiB/149.1 KiB]                                                \n",
      "Operation completed over 1 objects/149.1 KiB.                                    \n"
     ]
    }
   ],
   "source": [
    "!gcloud ai-platform local train \\\n",
    "  --package-path $TRAINING_PACKAGE_PATH \\\n",
    "  --module-name $MAIN_TRAINER_MODULE"
   ]
  },
  {
   "cell_type": "code",
   "execution_count": 93,
   "metadata": {
    "scrolled": true
   },
   "outputs": [
    {
     "name": "stdout",
     "output_type": "stream",
     "text": [
      "env: BUCKET_NAME=wri-congo-deforestation\n",
      "env: JOB_NAME=iris_sklearn_20210308_161451\n",
      "env: JOB_DIR=gs://wri-congo-deforestation/scikit_learn_job_dir\n",
      "env: TRAINING_PACKAGE_PATH=iris_sklearn_trainer/\n",
      "env: MAIN_TRAINER_MODULE=iris_sklearn_trainer.training\n",
      "env: REGION=us-east4\n",
      "env: RUNTIME_VERSION=2.3\n",
      "env: PYTHON_VERSION=3.7\n",
      "env: SCALE_TIER=BASIC\n"
     ]
    }
   ],
   "source": [
    "# datetime object containing current date and time\n",
    "now = datetime.now()\n",
    "dt_string = now.strftime(\"%Y%m%d_%H%M%S\")\n",
    "JOB_NAME = 'iris_sklearn_{}'.format(dt_string)\n",
    "runtime_version = 2.3\n",
    "%env BUCKET_NAME=wri-congo-deforestation\n",
    "%env JOB_NAME=$JOB_NAME\n",
    "%env JOB_DIR=gs://$BUCKET_NAME/scikit_learn_job_dir\n",
    "%env TRAINING_PACKAGE_PATH=iris_sklearn_trainer/\n",
    "%env MAIN_TRAINER_MODULE=iris_sklearn_trainer.training\n",
    "%env REGION=us-east4\n",
    "%env RUNTIME_VERSION=$runtime_version\n",
    "%env PYTHON_VERSION=3.7\n",
    "%env SCALE_TIER=BASIC\n",
    "%env MODEL_DIR=gs://wri-congo-deforestation\n",
    "%env VERSION_NAME=v0_1_2\n",
    "%env MODEL_NAME=iris_sklearn\n",
    "%env FRAMEWORK=SCIKIT_LEARN"
   ]
  },
  {
   "cell_type": "code",
   "execution_count": 67,
   "metadata": {
    "code_folding": []
   },
   "outputs": [
    {
     "name": "stdout",
     "output_type": "stream",
     "text": [
      "Job [iris_sklearn_20210308_131146] submitted successfully.\n",
      "Your job is still active. You may view the status of your job with the command\n",
      "\n",
      "  $ gcloud ai-platform jobs describe iris_sklearn_20210308_131146\n",
      "\n",
      "or continue streaming the logs with the command\n",
      "\n",
      "  $ gcloud ai-platform jobs stream-logs iris_sklearn_20210308_131146\n",
      "jobId: iris_sklearn_20210308_131146\n",
      "state: QUEUED\n"
     ]
    }
   ],
   "source": [
    "!gcloud ai-platform jobs submit training $JOB_NAME \\\n",
    "  --job-dir $JOB_DIR \\\n",
    "  --package-path $TRAINING_PACKAGE_PATH \\\n",
    "  --module-name $MAIN_TRAINER_MODULE \\\n",
    "  --region $REGION \\\n",
    "  --runtime-version=$RUNTIME_VERSION \\\n",
    "  --python-version=$PYTHON_VERSION \\\n",
    "  --scale-tier $SCALE_TIER"
   ]
  },
  {
   "cell_type": "code",
   "execution_count": 102,
   "metadata": {},
   "outputs": [
    {
     "name": "stdout",
     "output_type": "stream",
     "text": [
      "env: MODEL_DIR=gs://wri-congo-deforestation\n",
      "env: VERSION_NAME=v0_1_2\n",
      "env: MODEL_NAME=iris_sklearn\n",
      "env: FRAMEWORK=SCIKIT_LEARN\n"
     ]
    }
   ],
   "source": [
    "%env MODEL_DIR=gs://wri-congo-deforestation\n",
    "%env VERSION_NAME=v0_1_2\n",
    "%env MODEL_NAME=iris_sklearn\n",
    "%env FRAMEWORK=SCIKIT_LEARN\n"
   ]
  },
  {
   "cell_type": "code",
   "execution_count": 97,
   "metadata": {},
   "outputs": [
    {
     "name": "stdout",
     "output_type": "stream",
     "text": [
      "Using endpoint [https://us-east4-ml.googleapis.com/]\n",
      "\u001b[1;31mERROR:\u001b[0m (gcloud.ai-platform.models.create) Resource in projects [wri-congo-deforestation] is the subject of a conflict: Field: model.name Error: A model with the same name already exists.\n",
      "- '@type': type.googleapis.com/google.rpc.BadRequest\n",
      "  fieldViolations:\n",
      "  - description: A model with the same name already exists.\n",
      "    field: model.name\n"
     ]
    }
   ],
   "source": [
    "!gcloud ai-platform models create $MODEL_NAME \\\n",
    "  --region=$REGION"
   ]
  },
  {
   "cell_type": "code",
   "execution_count": 103,
   "metadata": {},
   "outputs": [
    {
     "name": "stdout",
     "output_type": "stream",
     "text": [
      "Using endpoint [https://us-east4-ml.googleapis.com/]\n",
      "Creating version (this might take a few minutes)......done.                    \n"
     ]
    }
   ],
   "source": [
    "!gcloud ai-platform versions create $VERSION_NAME \\\n",
    "  --model=$MODEL_NAME \\\n",
    "  --origin=$MODEL_DIR \\\n",
    "  --runtime-version=$RUNTIME_VERSION \\\n",
    "  --framework=$FRAMEWORK \\\n",
    "  --python-version=3.7 \\\n",
    "  --region=$REGION \\\n",
    "  --machine-type=$MACHINE_TYPE"
   ]
  },
  {
   "cell_type": "code",
   "execution_count": null,
   "metadata": {},
   "outputs": [],
   "source": []
  },
  {
   "cell_type": "code",
   "execution_count": null,
   "metadata": {},
   "outputs": [],
   "source": []
  }
 ],
 "metadata": {
  "kernelspec": {
   "display_name": "Python 3",
   "language": "python",
   "name": "python3"
  },
  "language_info": {
   "codemirror_mode": {
    "name": "ipython",
    "version": 3
   },
   "file_extension": ".py",
   "mimetype": "text/x-python",
   "name": "python",
   "nbconvert_exporter": "python",
   "pygments_lexer": "ipython3",
   "version": "3.8.5"
  }
 },
 "nbformat": 4,
 "nbformat_minor": 4
}
