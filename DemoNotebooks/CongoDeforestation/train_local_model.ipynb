{
 "cells": [
  {
   "cell_type": "markdown",
   "metadata": {},
   "source": [
    "https://cloud.google.com/ai-platform/training/docs/getting-started-scikit-xgboost\n",
    "\n",
    "https://cloud.google.com/ai-platform/prediction/docs/using-pipelines-for-preprocessing#gcloud_2"
   ]
  },
  {
   "cell_type": "code",
   "execution_count": 4,
   "metadata": {},
   "outputs": [],
   "source": [
    "import sys\n",
    "modulePath = '/Users/kristine/WRI/MachineLearning/gfw-forestlearn'\n",
    "if modulePath not in sys.path:\n",
    "    sys.path.append(modulePath)\n",
    "from gfw_forestlearn import fl_binary_classification\n",
    "#from gfw_forestlearn import fl_regression\n",
    "#import pandas as pd\n",
    "import numpy as np\n",
    "from datetime import datetime\n",
    "import os\n",
    "import pandas as pd\n",
    "import subprocess"
   ]
  },
  {
   "cell_type": "code",
   "execution_count": 5,
   "metadata": {},
   "outputs": [
    {
     "data": {
      "text/plain": [
       "['system:index',\n",
       " 'TrainingSplit',\n",
       " 'concessionsImage',\n",
       " 'conflictsDistance',\n",
       " 'earlyLossDistance',\n",
       " 'elevation',\n",
       " 'huntingAreasImage',\n",
       " 'localitiesDistance',\n",
       " 'loggingDistance',\n",
       " 'lossyear',\n",
       " 'miningImage',\n",
       " 'navigableRiversDistance',\n",
       " 'protectedAreasImage',\n",
       " 'roadsDistance',\n",
       " 'ruralComplexDistance',\n",
       " 'slope',\n",
       " '.geo']"
      ]
     },
     "execution_count": 5,
     "metadata": {},
     "output_type": "execute_result"
    }
   ],
   "source": [
    "dataDir = '/Users/kristine/Downloads/CongoDeforestation'\n",
    "os.chdir(dataDir)\n",
    "trainFile = 'train.csv'\n",
    "testFile = 'test.csv'\n",
    "validationFile = 'validation.csv'\n",
    "\n",
    "train = pd.read_csv(trainFile)\n",
    "list(train)\n",
    "# test = pd.read_csv(testFile)\n",
    "# validation = pd.read_csv(validationFile)\n"
   ]
  },
  {
   "cell_type": "code",
   "execution_count": 6,
   "metadata": {},
   "outputs": [
    {
     "name": "stdout",
     "output_type": "stream",
     "text": [
      "Fitting 3 folds for each of 72 candidates, totalling 216 fits\n",
      "Best parameters: {'learn__max_depth': 15, 'learn__max_features': 'auto', 'learn__min_samples_leaf': 2, 'learn__n_estimators': 100}\n",
      "Best score: 0.9418061616888034\n",
      "['conflictsDistance', 'earlyLossDistance', 'elevation', 'localitiesDistance', 'loggingDistance', 'navigableRiversDistance', 'roadsDistance', 'ruralComplexDistance', 'slope']\n"
     ]
    },
    {
     "name": "stderr",
     "output_type": "stream",
     "text": [
      "/usr/local/lib/python3.9/site-packages/sklearn/utils/deprecation.py:87: FutureWarning: Function get_feature_names is deprecated; get_feature_names is deprecated in 1.0 and will be removed in 1.2. Please use get_feature_names_out instead.\n",
      "  warnings.warn(msg, category=FutureWarning)\n"
     ]
    }
   ],
   "source": [
    "\n",
    "\n",
    "training_csv = 'train.csv'\n",
    "validation_csv = 'validation.csv'\n",
    "test_csv = 'test.csv'\n",
    "training_set = pd.read_csv(training_csv)\n",
    "mask_column = ['SplitValue','random','system:index','.geo']\n",
    "y_column = 'lossyear'\n",
    "\n",
    "\n",
    "\n",
    "params = {\n",
    "    'learn__n_estimators': [100,50],\n",
    "    'learn__max_features': ['auto',.2,.5],\n",
    "    'learn__min_samples_leaf': [0.1,2,5,50],\n",
    "    'learn__max_depth': [6,10,15]\n",
    "}\n",
    "predictors = ['concessionsImage','conflictsDistance','earlyLossDistance','elevation', 'huntingAreasImage',\n",
    "              'localitiesDistance', 'loggingDistance', 'miningImage', 'navigableRiversDistance',\n",
    "              'protectedAreasImage', 'roadsDistance', 'ruralComplexDistance', 'slope']\n",
    "\n",
    "cat_feats = ['concessionsImage','miningImage','huntingAreasImage','protectedAreasImage']\n",
    "\n",
    "learning = fl_binary_classification.ForestLearn(predictors=predictors, y_column=y_column,cat_feats=cat_feats)\n",
    "modelfilename= 'randfor.pkl'\n",
    "out_modelfilename= 'randfor2.pkl'\n",
    "cv_results_filename = 'cv_results.csv'\n",
    "feature_importance_filename = 'feature_importance.csv'\n",
    "out_validation_file = 'out_validation.csv'\n",
    "out_train_file = 'out_train.csv'\n",
    "out_test_file = 'out_test.csv'\n",
    "scores_out_file = 'scores_out_file.csv'\n",
    "\n",
    "learning.setup_rf_model_classify_scale()\n",
    "learning.tune_param_set(training_set, params, modelfilename, cv_results_filename,k=3,\n",
    "                        scoring='roc_auc', n_jobs=-1,verbose=1)\n",
    "learning.save_feature_importances(feature_importance_filename)\n",
    "learning.fit_model_with_params(training_set, out_modelfilename,in_modelfilename=modelfilename)\n",
    "learning.load_model_from_file(modelfilename)\n",
    "learning.predict_supervised_data(training_csv, out_train_file, name='Train')\n",
    "learning.predict_supervised_data(validation_csv, out_validation_file, name='Validation')\n",
    "learning.predict_supervised_data(test_csv, out_validation_file, name='Test')\n",
    "learning.save_scores(scores_out_file)\n",
    "\n"
   ]
  },
  {
   "cell_type": "code",
   "execution_count": null,
   "metadata": {},
   "outputs": [],
   "source": []
  },
  {
   "cell_type": "code",
   "execution_count": null,
   "metadata": {},
   "outputs": [],
   "source": []
  },
  {
   "cell_type": "code",
   "execution_count": null,
   "metadata": {},
   "outputs": [],
   "source": []
  },
  {
   "cell_type": "code",
   "execution_count": null,
   "metadata": {},
   "outputs": [],
   "source": []
  },
  {
   "cell_type": "code",
   "execution_count": null,
   "metadata": {},
   "outputs": [],
   "source": []
  },
  {
   "cell_type": "code",
   "execution_count": null,
   "metadata": {},
   "outputs": [],
   "source": []
  },
  {
   "cell_type": "code",
   "execution_count": null,
   "metadata": {},
   "outputs": [],
   "source": []
  },
  {
   "cell_type": "code",
   "execution_count": null,
   "metadata": {},
   "outputs": [],
   "source": []
  },
  {
   "cell_type": "code",
   "execution_count": null,
   "metadata": {},
   "outputs": [],
   "source": []
  },
  {
   "cell_type": "code",
   "execution_count": null,
   "metadata": {},
   "outputs": [],
   "source": []
  },
  {
   "cell_type": "code",
   "execution_count": null,
   "metadata": {},
   "outputs": [],
   "source": []
  },
  {
   "cell_type": "code",
   "execution_count": null,
   "metadata": {},
   "outputs": [],
   "source": []
  },
  {
   "cell_type": "code",
   "execution_count": null,
   "metadata": {},
   "outputs": [],
   "source": []
  },
  {
   "cell_type": "code",
   "execution_count": null,
   "metadata": {},
   "outputs": [],
   "source": []
  },
  {
   "cell_type": "code",
   "execution_count": null,
   "metadata": {},
   "outputs": [],
   "source": []
  },
  {
   "cell_type": "code",
   "execution_count": null,
   "metadata": {},
   "outputs": [],
   "source": []
  },
  {
   "cell_type": "code",
   "execution_count": null,
   "metadata": {},
   "outputs": [],
   "source": []
  },
  {
   "cell_type": "code",
   "execution_count": null,
   "metadata": {},
   "outputs": [],
   "source": []
  },
  {
   "cell_type": "code",
   "execution_count": null,
   "metadata": {},
   "outputs": [],
   "source": []
  },
  {
   "cell_type": "code",
   "execution_count": null,
   "metadata": {},
   "outputs": [],
   "source": []
  },
  {
   "cell_type": "code",
   "execution_count": null,
   "metadata": {},
   "outputs": [],
   "source": [
    "# PROJECT_ID = \"wri-congo-deforestation\" #@param {type:\"string\"}\n",
    "# ! gcloud config set project $PROJECT_ID\n",
    "# %env GOOGLE_APPLICATION_CREDENTIALS 'wri-congo-deforestation-92666c07ca00.json'\n",
    "# BUCKET_NAME = \"wri-congo-deforestation\" #@param {type:\"string\"}\n",
    "# REGION = \"us-east4\" #@param {type:\"string\"}\n",
    "# %env REGION = us-east4"
   ]
  },
  {
   "cell_type": "code",
   "execution_count": null,
   "metadata": {},
   "outputs": [],
   "source": [
    "# !gsutil cp gs://wri-congo-deforestation/testing_points.csv ."
   ]
  },
  {
   "cell_type": "code",
   "execution_count": 4,
   "metadata": {},
   "outputs": [
    {
     "name": "stdout",
     "output_type": "stream",
     "text": [
      "Writing ai_platform_model.py\n"
     ]
    }
   ],
   "source": []
  },
  {
   "cell_type": "code",
   "execution_count": null,
   "metadata": {},
   "outputs": [],
   "source": [
    "# [END upload-model]"
   ]
  },
  {
   "cell_type": "code",
   "execution_count": null,
   "metadata": {},
   "outputs": [],
   "source": [
    "TRAINING_PACKAGE_PATH=\"./iris_sklearn_trainer/\"\n",
    "MAIN_TRAINER_MODULE=\"iris_sklearn_trainer.training\""
   ]
  },
  {
   "cell_type": "code",
   "execution_count": null,
   "metadata": {},
   "outputs": [],
   "source": [
    "!gcloud ai-platform local train \\\n",
    "  --package-path $TRAINING_PACKAGE_PATH \\\n",
    "  --module-name $MAIN_TRAINER_MODULE"
   ]
  },
  {
   "cell_type": "code",
   "execution_count": null,
   "metadata": {
    "scrolled": true
   },
   "outputs": [],
   "source": [
    "# datetime object containing current date and time\n",
    "now = datetime.now()\n",
    "dt_string = now.strftime(\"%Y%m%d_%H%M%S\")\n",
    "JOB_NAME = 'iris_sklearn_{}'.format(dt_string)\n",
    "runtime_version = 2.3\n",
    "%env BUCKET_NAME=wri-congo-deforestation\n",
    "%env JOB_NAME=$JOB_NAME\n",
    "%env JOB_DIR=gs://$BUCKET_NAME/scikit_learn_job_dir\n",
    "%env TRAINING_PACKAGE_PATH=iris_sklearn_trainer/\n",
    "%env MAIN_TRAINER_MODULE=iris_sklearn_trainer.training\n",
    "%env REGION=us-east4\n",
    "%env RUNTIME_VERSION=$runtime_version\n",
    "%env PYTHON_VERSION=3.7\n",
    "%env SCALE_TIER=BASIC\n",
    "%env MODEL_DIR=gs://wri-congo-deforestation\n",
    "%env VERSION_NAME=v0_1_2\n",
    "%env MODEL_NAME=iris_sklearn\n",
    "%env FRAMEWORK=SCIKIT_LEARN"
   ]
  },
  {
   "cell_type": "code",
   "execution_count": null,
   "metadata": {
    "code_folding": []
   },
   "outputs": [],
   "source": [
    "!gcloud ai-platform jobs submit training $JOB_NAME \\\n",
    "  --job-dir $JOB_DIR \\\n",
    "  --package-path $TRAINING_PACKAGE_PATH \\\n",
    "  --module-name $MAIN_TRAINER_MODULE \\\n",
    "  --region $REGION \\\n",
    "  --runtime-version=$RUNTIME_VERSION \\\n",
    "  --python-version=$PYTHON_VERSION \\\n",
    "  --scale-tier $SCALE_TIER"
   ]
  },
  {
   "cell_type": "code",
   "execution_count": null,
   "metadata": {},
   "outputs": [],
   "source": [
    "%env MODEL_DIR=gs://wri-congo-deforestation\n",
    "%env VERSION_NAME=v0_1_2\n",
    "%env MODEL_NAME=iris_sklearn\n",
    "%env FRAMEWORK=SCIKIT_LEARN\n"
   ]
  },
  {
   "cell_type": "code",
   "execution_count": null,
   "metadata": {},
   "outputs": [],
   "source": [
    "!gcloud ai-platform models create $MODEL_NAME \\\n",
    "  --region=$REGION"
   ]
  },
  {
   "cell_type": "code",
   "execution_count": null,
   "metadata": {},
   "outputs": [],
   "source": [
    "!gcloud ai-platform versions create $VERSION_NAME \\\n",
    "  --model=$MODEL_NAME \\\n",
    "  --origin=$MODEL_DIR \\\n",
    "  --runtime-version=$RUNTIME_VERSION \\\n",
    "  --framework=$FRAMEWORK \\\n",
    "  --python-version=3.7 \\\n",
    "  --region=$REGION \\\n",
    "  --machine-type=$MACHINE_TYPE"
   ]
  },
  {
   "cell_type": "code",
   "execution_count": null,
   "metadata": {},
   "outputs": [],
   "source": []
  },
  {
   "cell_type": "code",
   "execution_count": null,
   "metadata": {},
   "outputs": [],
   "source": []
  }
 ],
 "metadata": {
  "kernelspec": {
   "display_name": "Python 3",
   "language": "python",
   "name": "python3"
  },
  "language_info": {
   "codemirror_mode": {
    "name": "ipython",
    "version": 3
   },
   "file_extension": ".py",
   "mimetype": "text/x-python",
   "name": "python",
   "nbconvert_exporter": "python",
   "pygments_lexer": "ipython3",
   "version": "3.9.9"
  }
 },
 "nbformat": 4,
 "nbformat_minor": 4
}
