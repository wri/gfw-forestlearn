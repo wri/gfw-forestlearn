{
 "cells": [
  {
   "cell_type": "code",
   "execution_count": 20,
   "metadata": {},
   "outputs": [],
   "source": [
    "import subprocess \n",
    "import glob\n",
    "import os\n",
    "import rasterio\n",
    "import numpy as np"
   ]
  },
  {
   "cell_type": "code",
   "execution_count": 36,
   "metadata": {},
   "outputs": [
    {
     "name": "stdout",
     "output_type": "stream",
     "text": [
      "nan <class 'str'>\n",
      "earthengine upload image --asset_id=projects/wri-datalab/CarbonSequestrationAI/PredictorVariables/PredictorVariablesCookPatton2020/BDRLOG_M_1km_ll gs://kristine-upload/BDRLOG_M_1km_ll.tif\n",
      "nan <class 'str'>\n",
      "earthengine upload image --asset_id=projects/wri-datalab/CarbonSequestrationAI/PredictorVariables/PredictorVariablesCookPatton2020/BDTICM_M_1km_ll gs://kristine-upload/BDTICM_M_1km_ll.tif\n"
     ]
    }
   ],
   "source": [
    "# cmd = ['earthengine','upload','image','--asset_id='+asset_id,'--force','--nodata_value='+str(NDV),'--time_start='+str(start_date),'--time_end='+str(end_date),'--bands='+bands,GS_BUCKET+temp_file]\n",
    "# shell_output = subprocess.check_output(cmd)\n",
    "# shell_output = shell_output.decode(\"utf-8\")\n",
    "\n",
    "\n",
    "bucketName = 'kristine-upload'\n",
    "imageCollection = 'projects/wri-datalab/CarbonSequestrationAI/PredictorVariables/PredictorVariablesCookPatton2020/{}'\n",
    "\n",
    "folder = '/Users/kristine/WRI/MachineLearning/CarbonAI/upload_to_azure/upload_to_gee'\n",
    "os.chdir(folder)\n",
    "\n",
    "files = glob.glob('*')\n",
    "files = [x for x in files if 'BD' in x]\n",
    "\n",
    "for fileName in files:\n",
    "    with rasterio.open(fileName, 'r') as src:\n",
    "        nodata = src.nodata\n",
    "        \n",
    "        nodata = str(nodata)\n",
    "        print(nodata, type(nodata))\n",
    "    \n",
    "    bucketPath = 'gs://{}/{}'.format(bucketName,fileName)\n",
    "    imageName = fileName.split('.')[0]\n",
    "    assetId = imageCollection.format(imageName)\n",
    "    \n",
    "    if (nodata!='None') & (nodata!='nan'):\n",
    "        cmd = ['earthengine','upload','image','--asset_id='+assetId,'--nodata_value={}'.format(nodata),bucketPath]\n",
    "    else:\n",
    "        cmd = ['earthengine','upload','image','--asset_id='+assetId,bucketPath]\n",
    "    \n",
    "    print(' '.join(cmd))\n",
    "    shell_output = subprocess.call(cmd)\n",
    "    #shell_output = shell_output.decode(\"utf-8\")\n",
    "\n",
    "\n",
    "# cmd = ['gsutil','ls','gs://{}'.format(bucketName)]\n",
    "\n",
    "# shell_output = subprocess.check_output(cmd)\n",
    "# shell_output = shell_output.decode(\"utf-8\")\n",
    "\n",
    "# gcsFiles = shell_output.split('\\n')\n",
    "\n",
    "# for gcsFile in gcsFiles:\n",
    "#     imageName = gcsFile.split('/')[-1]\n",
    "#     assetId = imageCollection.format(imageName)\n",
    "    \n",
    "# files = [x.split('/')[-1] for x in files]\n",
    "# print(files)\n"
   ]
  },
  {
   "cell_type": "code",
   "execution_count": 35,
   "metadata": {},
   "outputs": [
    {
     "name": "stdout",
     "output_type": "stream",
     "text": [
      "59\n"
     ]
    }
   ],
   "source": [
    "print(len(files))"
   ]
  },
  {
   "cell_type": "code",
   "execution_count": null,
   "metadata": {},
   "outputs": [],
   "source": []
  }
 ],
 "metadata": {
  "kernelspec": {
   "display_name": "Python 3",
   "language": "python",
   "name": "python3"
  },
  "language_info": {
   "codemirror_mode": {
    "name": "ipython",
    "version": 3
   },
   "file_extension": ".py",
   "mimetype": "text/x-python",
   "name": "python",
   "nbconvert_exporter": "python",
   "pygments_lexer": "ipython3",
   "version": "3.8.5"
  }
 },
 "nbformat": 4,
 "nbformat_minor": 4
}
