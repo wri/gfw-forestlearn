{
 "cells": [
  {
   "cell_type": "code",
   "execution_count": 4,
   "metadata": {},
   "outputs": [],
   "source": [
    "#Load necessary libraries\n",
    "import sys\n",
    "import os\n",
    "import ee\n",
    "import numpy as np\n",
    "import pandas as pd\n",
    "import random\n",
    "import json\n",
    "import time\n"
   ]
  },
  {
   "cell_type": "code",
   "execution_count": 5,
   "metadata": {},
   "outputs": [],
   "source": [
    "\n",
    "#Initialize earth engine\n",
    "try:\n",
    "    ee.Initialize()\n",
    "except Exception as e:\n",
    "    ee.Authenticate()\n",
    "    ee.Initialize()"
   ]
  },
  {
   "cell_type": "markdown",
   "metadata": {},
   "source": [
    "Define seed number to reproduce results"
   ]
  },
  {
   "cell_type": "code",
   "execution_count": 6,
   "metadata": {},
   "outputs": [],
   "source": [
    "num_seed = 30\n",
    "random.seed(num_seed)"
   ]
  },
  {
   "cell_type": "markdown",
   "metadata": {},
   "source": [
    "Load one image to get the projection and boundaries"
   ]
  },
  {
   "cell_type": "code",
   "execution_count": 12,
   "metadata": {},
   "outputs": [
    {
     "name": "stdout",
     "output_type": "stream",
     "text": [
      "CRS and Transform:  EPSG:4326 [0.008333333333333333, 0, -180, 0, -0.008333333333333333, 90]\n"
     ]
    }
   ],
   "source": [
    "# load one of the predictor variable images\n",
    "projectionImage = ee.Image(\"projects/wri-datalab/CarbonSequestrationAI/PredictorVariables/PredictorVariablesCookPatton2020/wc_v2_bio_30s_05\")\n",
    "\n",
    "# save projection information\n",
    "projection_ee = projectionImage.projection()\n",
    "projection = projection_ee.getInfo()\n",
    "crs = projection.get('crs')\n",
    "crsTransform = projection.get('transform')\n",
    "scale = projection_ee.nominalScale().getInfo()\n",
    "print('CRS and Transform: ',crs, crsTransform)\n",
    "\n",
    "region = projectionImage.geometry().bounds()\n"
   ]
  },
  {
   "cell_type": "markdown",
   "metadata": {},
   "source": [
    "Define predictor variables"
   ]
  },
  {
   "cell_type": "code",
   "execution_count": 28,
   "metadata": {},
   "outputs": [
    {
     "name": "stdout",
     "output_type": "stream",
     "text": [
      "59\n",
      "['BDRLOG_M_1km_ll_b1', 'BDTICM_M_1km_ll_b1', 'BLDFIE_M_sl_b1', 'BiomesMask_b1', 'CECSOL_M_sl_b1', 'CLYPPT_M_sl_b1', 'CM10_1975H_Bio20_V1_2_b1', 'CM10_1975H_Bio21_V1_2_b1', 'CM10_1975H_Bio22_V1_2_b1', 'CM10_1975H_Bio23_V1_2_b1', 'CM10_1975H_Bio24_V1_2_b1', 'CM10_1975H_Bio25_V1_2_b1', 'CM10_1975H_Bio26_V1_2_b1', 'CM10_1975H_Bio27_V1_2_b1', 'CM10_1975H_Bio28_V1_2_b1', 'CM10_1975H_Bio29_V1_2_b1', 'CM10_1975H_Bio30_V1_2_b1', 'CM10_1975H_Bio31_V1_2_b1', 'CM10_1975H_Bio32_V1_2_b1', 'CM10_1975H_Bio33_V1_2_b1', 'CM10_1975H_Bio34_V1_2_b1', 'CM10_1975H_Bio35_V1_2_b1', 'CRFVOL_M_sl_b1', 'GMTEDAspect_b1', 'GMTEDElevation_b1', 'GMTEDHillShade_b1', 'GMTEDSlope_b1', 'NHx_avg_dep_1980_2009_b1', 'NOy_avg_dep_1980_2009_b1', 'OCDENS_M_sl_b1', 'OCSTHA_M_sd_b1', 'ORCDRC_M_sl_b1', 'PHIHOX_M_sl_b1', 'PHIKCL_M_sl_b1', 'SLTPPT_M_sl_b1', 'SNDPPT_M_sl_b1', 'WWP_M_sl_b1', 'ai_et0_b1', 'et0_yr_b1', 'shortwave_radiaton_1982_2015_b1', 'wc_v2_bio_30s_01_b1', 'wc_v2_bio_30s_02_b1', 'wc_v2_bio_30s_03_b1', 'wc_v2_bio_30s_04_b1', 'wc_v2_bio_30s_05_b1', 'wc_v2_bio_30s_06_b1', 'wc_v2_bio_30s_07_b1', 'wc_v2_bio_30s_08_b1', 'wc_v2_bio_30s_09_b1', 'wc_v2_bio_30s_10_b1', 'wc_v2_bio_30s_11_b1', 'wc_v2_bio_30s_12_b1', 'wc_v2_bio_30s_13_b1', 'wc_v2_bio_30s_14_b1', 'wc_v2_bio_30s_15_b1', 'wc_v2_bio_30s_16_b1', 'wc_v2_bio_30s_17_b1', 'wc_v2_bio_30s_18_b1', 'wc_v2_bio_30s_19_b1']\n"
     ]
    }
   ],
   "source": [
    "predictorVariableCollection = ee.ImageCollection('projects/wri-datalab/CarbonSequestrationAI/PredictorVariables/PredictorVariablesCookPatton2020')\n",
    "predictorVariableImage = ee.ImageCollection(predictorVariableCollection).toBands()\n",
    "bands = predictorVariableImage.bandNames().getInfo()\n",
    "bands = [x for x in bands if 'Biomes' not in x]\n",
    "\n",
    "#predictorVariableImage = predictorVariableImage.select(bands)\n",
    "predictorVariableImage = predictorVariableImage.unmask(-1.7e+308)\n",
    "print(len(predictorVariableImage.bandNames().getInfo()))\n",
    "print(predictorVariableImage.bandNames().getInfo())\n",
    "\n"
   ]
  },
  {
   "cell_type": "markdown",
   "metadata": {},
   "source": [
    "Sample predictor variables at training and test point locations"
   ]
  },
  {
   "cell_type": "code",
   "execution_count": 26,
   "metadata": {},
   "outputs": [
    {
     "name": "stdout",
     "output_type": "stream",
     "text": [
      "Polling for task (id: L5THS27AFMACI4ASXMMLXYB2).\n",
      "Polling for task (id: L5THS27AFMACI4ASXMMLXYB2).\n",
      "Polling for task (id: L5THS27AFMACI4ASXMMLXYB2).\n",
      "Polling for task (id: L5THS27AFMACI4ASXMMLXYB2).\n",
      "Polling for task (id: L5THS27AFMACI4ASXMMLXYB2).\n",
      "Polling for task (id: L5THS27AFMACI4ASXMMLXYB2).\n",
      "Polling for task (id: L5THS27AFMACI4ASXMMLXYB2).\n",
      "Polling for task (id: L5THS27AFMACI4ASXMMLXYB2).\n",
      "Done with export.\n"
     ]
    }
   ],
   "source": [
    "#Define properties to export to an Earth Engine asset\n",
    "locationDescription = '{}'\n",
    "locationAssetID = 'projects/wri-datalab/CarbonSequestrationAI/TrainingPoints/{}'\n",
    "pointsAssetID = 'projects/wri-datalab/CarbonSequestrationAI/TrainingPoints/{}wCovar'\n",
    "\n",
    "# Load the point locations assets\n",
    "trainingLocationsAsset = ee.FeatureCollection(locationAssetID.format('Train'))\n",
    "testLocationsAsset = ee.FeatureCollection(locationAssetID.format('Test'))\n",
    "\n",
    "# Sample predictor variable at location\n",
    "trainingPoints = predictorVariableImage.sampleRegions(trainingLocationsAsset, \n",
    "                                                         projection=projection_ee, geometries=True,tileScale=16)\n",
    "testPoints = predictorVariableImage.sampleRegions(testLocationsAsset, \n",
    "                                                     projection=projection_ee, geometries=True,tileScale=16)\n",
    "\n",
    "# # Export results\n",
    "export_results_task = ee.batch.Export.table.toAsset(\n",
    "    collection=trainingPoints, \n",
    "    description = locationDescription.format('Train'), \n",
    "    assetId = pointsAssetID.format('Train'))\n",
    "export_results_task.start()\n",
    "\n",
    "export_results_task = ee.batch.Export.table.toAsset(\n",
    "    collection=testPoints, \n",
    "    description = locationDescription.format('Test'), \n",
    "    assetId = pointsAssetID.format('Test'))\n",
    "export_results_task.start()\n",
    "\n",
    "#Wait for last export to finish\n",
    "while export_results_task.active():\n",
    "    print('Polling for task (id: {}).'.format(export_results_task.id))\n",
    "    time.sleep(30)\n",
    "print('Done with export.')"
   ]
  },
  {
   "cell_type": "code",
   "execution_count": 27,
   "metadata": {},
   "outputs": [
    {
     "name": "stdout",
     "output_type": "stream",
     "text": [
      "Polling for task (id: KMDI62SVPOB7UU65HEEEQTJK).\n",
      "Polling for task (id: KMDI62SVPOB7UU65HEEEQTJK).\n",
      "Polling for task (id: KMDI62SVPOB7UU65HEEEQTJK).\n",
      "Done with export.\n"
     ]
    }
   ],
   "source": [
    "# # Export results\n",
    "bucket = 'wri-carbon-sequestration'\n",
    "description = '{}_gcloud_export'\n",
    "fileNamePrefix = '{}wCovar'\n",
    "\n",
    "#Export.table.toCloudStorage(collection, description, bucket, fileNamePrefix, fileFormat, selectors)\n",
    "\n",
    "trainingPoints = ee.FeatureCollection(pointsAssetID.format('Train'))\n",
    "testPoints = ee.FeatureCollection(pointsAssetID.format('Test'))\n",
    "\n",
    "export_results_task = ee.batch.Export.table.toCloudStorage(\n",
    "    collection=trainingPoints, \n",
    "    description = description.format('Train'), \n",
    "    bucket = bucket,\n",
    "    fileNamePrefix = fileNamePrefix.format('Train'),\n",
    "    fileFormat = 'CSV')\n",
    "\n",
    "export_results_task.start()\n",
    "\n",
    "export_results_task = ee.batch.Export.table.toCloudStorage(\n",
    "    collection=testPoints, \n",
    "    description = description.format('Test'), \n",
    "    bucket = bucket,\n",
    "    fileNamePrefix = fileNamePrefix.format('Test'),\n",
    "    fileFormat = 'CSV')\n",
    "export_results_task.start()\n",
    "\n",
    "\n",
    "#Wait for last export to finish\n",
    "while export_results_task.active():\n",
    "    print('Polling for task (id: {}).'.format(export_results_task.id))\n",
    "    time.sleep(30)\n",
    "print('Done with export.')"
   ]
  },
  {
   "cell_type": "code",
   "execution_count": null,
   "metadata": {},
   "outputs": [],
   "source": []
  },
  {
   "cell_type": "code",
   "execution_count": 16,
   "metadata": {},
   "outputs": [],
   "source": []
  },
  {
   "cell_type": "code",
   "execution_count": null,
   "metadata": {},
   "outputs": [],
   "source": []
  },
  {
   "cell_type": "code",
   "execution_count": null,
   "metadata": {},
   "outputs": [],
   "source": []
  },
  {
   "cell_type": "code",
   "execution_count": null,
   "metadata": {},
   "outputs": [],
   "source": []
  }
 ],
 "metadata": {
  "kernelspec": {
   "display_name": "Python 3",
   "language": "python",
   "name": "python3"
  },
  "language_info": {
   "codemirror_mode": {
    "name": "ipython",
    "version": 3
   },
   "file_extension": ".py",
   "mimetype": "text/x-python",
   "name": "python",
   "nbconvert_exporter": "python",
   "pygments_lexer": "ipython3",
   "version": "3.8.5"
  }
 },
 "nbformat": 4,
 "nbformat_minor": 4
}
